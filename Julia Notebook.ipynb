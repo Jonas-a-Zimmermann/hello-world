{
 "cells": [
  {
   "cell_type": "code",
   "execution_count": 3,
   "id": "happy-bobby",
   "metadata": {},
   "outputs": [
    {
     "name": "stdout",
     "output_type": "stream",
     "text": [
      "ja, vielleicht\n"
     ]
    }
   ],
   "source": [
    "println(\"ja, vielleicht\")"
   ]
  },
  {
   "cell_type": "markdown",
   "id": "subsequent-penalty",
   "metadata": {},
   "source": [
    "# This is a first attempt to use Jupyter Notebooks with Julia on Binder\n"
   ]
  },
  {
   "cell_type": "code",
   "execution_count": 7,
   "id": "activated-camel",
   "metadata": {},
   "outputs": [
    {
     "name": "stdout",
     "output_type": "stream",
     "text": [
      "ist das jetzt immer so langsam\n",
      "Hello from binder\n"
     ]
    }
   ],
   "source": [
    "println(\"ist das jetzt immer so langsam\")\n",
    "include(\"Hello.jl\")"
   ]
  },
  {
   "cell_type": "code",
   "execution_count": 9,
   "id": "celtic-particle",
   "metadata": {},
   "outputs": [
    {
     "ename": "LoadError",
     "evalue": "ArgumentError: Package Plots not found in current path:\n- Run `import Pkg; Pkg.add(\"Plots\")` to install the Plots package.\n",
     "output_type": "error",
     "traceback": [
      "ArgumentError: Package Plots not found in current path:\n- Run `import Pkg; Pkg.add(\"Plots\")` to install the Plots package.\n",
      "",
      "Stacktrace:",
      " [1] require(into::Module, mod::Symbol)",
      "   @ Base ./loading.jl:871",
      " [2] eval",
      "   @ ./boot.jl:360 [inlined]",
      " [3] include_string(mapexpr::typeof(REPL.softscope), mod::Module, code::String, filename::String)",
      "   @ Base ./loading.jl:1094"
     ]
    }
   ],
   "source": [
    "using Plots"
   ]
  },
  {
   "cell_type": "code",
   "execution_count": null,
   "id": "million-moment",
   "metadata": {},
   "outputs": [],
   "source": []
  }
 ],
 "metadata": {
  "kernelspec": {
   "display_name": "Julia 1.6.1",
   "language": "julia",
   "name": "julia-1.6"
  },
  "language_info": {
   "file_extension": ".jl",
   "mimetype": "application/julia",
   "name": "julia",
   "version": "1.6.1"
  }
 },
 "nbformat": 4,
 "nbformat_minor": 5
}
